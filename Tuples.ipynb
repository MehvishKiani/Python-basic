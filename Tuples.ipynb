{
 "cells": [
  {
   "cell_type": "markdown",
   "id": "6a119699",
   "metadata": {},
   "source": [
    "# Tuples:\n",
    "Tuples are immutable sequences, meaning their elements cannot be changed after creation."
   ]
  },
  {
   "cell_type": "code",
   "execution_count": 2,
   "id": "64463f76",
   "metadata": {},
   "outputs": [
    {
     "name": "stdout",
     "output_type": "stream",
     "text": [
      "1\n"
     ]
    }
   ],
   "source": [
    "my_tuple = (1, 2, 3)\n",
    "print(my_tuple[0]) "
   ]
  },
  {
   "cell_type": "code",
   "execution_count": 3,
   "id": "a98d60dd",
   "metadata": {},
   "outputs": [
    {
     "name": "stdout",
     "output_type": "stream",
     "text": [
      "2\n",
      "3\n"
     ]
    }
   ],
   "source": [
    "print(my_tuple[1])  \n",
    "print(my_tuple[-1]) #  (negative indexing)"
   ]
  },
  {
   "cell_type": "code",
   "execution_count": 5,
   "id": "c5b87e16",
   "metadata": {},
   "outputs": [
    {
     "name": "stdout",
     "output_type": "stream",
     "text": [
      "(2, 3)\n"
     ]
    }
   ],
   "source": [
    " # Get elements from index 1 to 2 (3 is excluded)\n",
    "sub_tuple = my_tuple[1:3] \n",
    "print(sub_tuple)  "
   ]
  },
  {
   "cell_type": "code",
   "execution_count": 6,
   "id": "a132602d",
   "metadata": {},
   "outputs": [
    {
     "name": "stdout",
     "output_type": "stream",
     "text": [
      "(1, 2, 3, 4, 5)\n"
     ]
    }
   ],
   "source": [
    "#Concatenating Tuples\n",
    "#concatenate two or more tuples using the + operator\n",
    "another_tuple = (4, 5)\n",
    "combined_tuple = my_tuple + another_tuple\n",
    "print(combined_tuple)  "
   ]
  },
  {
   "cell_type": "code",
   "execution_count": 7,
   "id": "01cf30c2",
   "metadata": {},
   "outputs": [
    {
     "name": "stdout",
     "output_type": "stream",
     "text": [
      "(1, 2, 3, 1, 2, 3)\n"
     ]
    }
   ],
   "source": [
    "#Repeating Tuples\n",
    "repeated_tuple = my_tuple * 2\n",
    "print(repeated_tuple)  "
   ]
  },
  {
   "cell_type": "code",
   "execution_count": 8,
   "id": "b3737c83",
   "metadata": {},
   "outputs": [
    {
     "name": "stdout",
     "output_type": "stream",
     "text": [
      "3\n"
     ]
    }
   ],
   "source": [
    "#Length of a Tuple\n",
    "length = len(my_tuple)\n",
    "print(length)  "
   ]
  },
  {
   "cell_type": "code",
   "execution_count": 9,
   "id": "9309975f",
   "metadata": {},
   "outputs": [
    {
     "name": "stdout",
     "output_type": "stream",
     "text": [
      "True\n",
      "False\n"
     ]
    }
   ],
   "source": [
    "# check if an element exists in a tuple using the in keyword.\n",
    "print(2 in my_tuple)  \n",
    "print(4 in my_tuple)  "
   ]
  },
  {
   "cell_type": "code",
   "execution_count": 10,
   "id": "461d775f",
   "metadata": {},
   "outputs": [
    {
     "name": "stdout",
     "output_type": "stream",
     "text": [
      "2\n"
     ]
    }
   ],
   "source": [
    "#Counting Occurrences\n",
    "my_tuple_with_duplicates = (1, 2, 2, 3)\n",
    "count_of_twos = my_tuple_with_duplicates.count(2)\n",
    "print(count_of_twos)  "
   ]
  },
  {
   "cell_type": "code",
   "execution_count": 11,
   "id": "5c914bd1",
   "metadata": {},
   "outputs": [
    {
     "name": "stdout",
     "output_type": "stream",
     "text": [
      "(2, 3)\n"
     ]
    }
   ],
   "source": [
    "#Nested Tuples\n",
    "nested_tuple = (1, (2, 3), (4, 5))\n",
    "print(nested_tuple[1]) "
   ]
  },
  {
   "cell_type": "code",
   "execution_count": 12,
   "id": "e8f6426e",
   "metadata": {},
   "outputs": [
    {
     "name": "stdout",
     "output_type": "stream",
     "text": [
      "(4, 5, 6)\n"
     ]
    }
   ],
   "source": [
    "#Creating a Tuple from a List\n",
    "my_list = [4, 5, 6]\n",
    "my_new_tuple = tuple(my_list)\n",
    "print(my_new_tuple)  "
   ]
  }
 ],
 "metadata": {
  "kernelspec": {
   "display_name": "Python 3 (ipykernel)",
   "language": "python",
   "name": "python3"
  },
  "language_info": {
   "codemirror_mode": {
    "name": "ipython",
    "version": 3
   },
   "file_extension": ".py",
   "mimetype": "text/x-python",
   "name": "python",
   "nbconvert_exporter": "python",
   "pygments_lexer": "ipython3",
   "version": "3.11.4"
  }
 },
 "nbformat": 4,
 "nbformat_minor": 5
}
