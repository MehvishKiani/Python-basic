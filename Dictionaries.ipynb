{
 "cells": [
  {
   "cell_type": "markdown",
   "id": "e224526c",
   "metadata": {},
   "source": [
    "# Dictionaries\n",
    "Dictionaries store key-value pairs."
   ]
  },
  {
   "cell_type": "code",
   "execution_count": 1,
   "id": "1d3fc249",
   "metadata": {},
   "outputs": [
    {
     "name": "stdout",
     "output_type": "stream",
     "text": [
      "\n",
      " John\n",
      "\n",
      " 30\n"
     ]
    }
   ],
   "source": [
    "person = {\"name\": \"John\", \"age\": 30, \"city\": \"New York\"}\n",
    "print('\\n',person[\"name\"]) \n",
    "print('\\n',person[\"age\"])  "
   ]
  },
  {
   "cell_type": "code",
   "execution_count": 2,
   "id": "363d19cd",
   "metadata": {},
   "outputs": [
    {
     "name": "stdout",
     "output_type": "stream",
     "text": [
      "\n",
      " dict_keys(['name', 'age', 'city'])\n"
     ]
    }
   ],
   "source": [
    "keys = person.keys()  # Get all keys\n",
    "print( '\\n',keys)  "
   ]
  },
  {
   "cell_type": "code",
   "execution_count": 3,
   "id": "077b1ac3",
   "metadata": {},
   "outputs": [
    {
     "name": "stdout",
     "output_type": "stream",
     "text": [
      "\n",
      " dict_values(['John', 30, 'New York'])\n"
     ]
    }
   ],
   "source": [
    "values = person.values()  # Get all values\n",
    "print('\\n',values)  "
   ]
  },
  {
   "cell_type": "code",
   "execution_count": 4,
   "id": "a095933d",
   "metadata": {},
   "outputs": [
    {
     "name": "stdout",
     "output_type": "stream",
     "text": [
      "\n",
      " dict_items([('name', 'John'), ('age', 30), ('city', 'New York')])\n"
     ]
    }
   ],
   "source": [
    "items = person.items()  # Get all key-value pairs\n",
    "print('\\n',items) \n"
   ]
  },
  {
   "cell_type": "code",
   "execution_count": 5,
   "id": "9508f8bc",
   "metadata": {},
   "outputs": [
    {
     "name": "stdout",
     "output_type": "stream",
     "text": [
      "\n",
      " {'name': 'John', 'age': 30, 'city': 'New York', 'job': 'Engineer'}\n"
     ]
    }
   ],
   "source": [
    "# Adding new key-value pair:\n",
    "person[\"job\"] = \"Engineer\"\n",
    "print('\\n',person)  "
   ]
  },
  {
   "cell_type": "code",
   "execution_count": 6,
   "id": "badc75fb",
   "metadata": {},
   "outputs": [
    {
     "name": "stdout",
     "output_type": "stream",
     "text": [
      "Update : {'name': 'John', 'age': 31, 'city': 'New York', 'job': 'Engineer'}\n"
     ]
    }
   ],
   "source": [
    "# Update age\n",
    "person[\"age\"] = 31 \n",
    "print('Update :',person)  "
   ]
  },
  {
   "cell_type": "code",
   "execution_count": 7,
   "id": "a7572055",
   "metadata": {},
   "outputs": [
    {
     "name": "stdout",
     "output_type": "stream",
     "text": [
      "\n",
      " Remove: {'name': 'John', 'age': 31, 'job': 'Engineer'}\n"
     ]
    }
   ],
   "source": [
    "# Remove the 'city' key\n",
    "del person[\"city\"]  \n",
    "print('\\n Remove:',person) "
   ]
  },
  {
   "cell_type": "code",
   "execution_count": 8,
   "id": "842e0f76",
   "metadata": {},
   "outputs": [
    {
     "name": "stdout",
     "output_type": "stream",
     "text": [
      "Engineer\n",
      "\n",
      " Return the value: {'name': 'John', 'age': 31}\n"
     ]
    }
   ],
   "source": [
    "# Alternatively, using pop():\n",
    "job = person.pop(\"job\")  # Remove and return the value of 'job'\n",
    "print(job)  \n",
    "print('\\n Return the value:',person)  "
   ]
  },
  {
   "cell_type": "code",
   "execution_count": 9,
   "id": "1581df7b",
   "metadata": {},
   "outputs": [
    {
     "name": "stdout",
     "output_type": "stream",
     "text": [
      "\n",
      " Name exists in the dictionary.\n"
     ]
    }
   ],
   "source": [
    "# Name exists in the dictionary.\n",
    "if \"name\" in person:\n",
    "    print(\"\\n Name exists in the dictionary.\")  "
   ]
  },
  {
   "cell_type": "code",
   "execution_count": 10,
   "id": "ba97a21b",
   "metadata": {},
   "outputs": [
    {
     "name": "stdout",
     "output_type": "stream",
     "text": [
      "\n",
      " Item does not exist: Not Found\n"
     ]
    }
   ],
   "source": [
    "city = person.get(\"city\", \"Not Found\")  # Returns 'Not Found' if 'city' does not exist\n",
    "print('\\n Item does not exist:',city)  "
   ]
  },
  {
   "cell_type": "code",
   "execution_count": 11,
   "id": "4ac61c03",
   "metadata": {},
   "outputs": [
    {
     "name": "stdout",
     "output_type": "stream",
     "text": [
      "\n",
      " Merges additional_info: {'name': 'John', 'age': 31, 'hobby': 'Reading', 'country': 'USA'}\n"
     ]
    }
   ],
   "source": [
    "additional_info = {\"hobby\": \"Reading\", \"country\": \"USA\"}\n",
    "person.update(additional_info)  # Merges additional_info into person\n",
    "print('\\n Merges additional_info:',person)  "
   ]
  },
  {
   "cell_type": "code",
   "execution_count": 12,
   "id": "9826a11b",
   "metadata": {},
   "outputs": [
    {
     "name": "stdout",
     "output_type": "stream",
     "text": [
      "\n",
      " Merges additional_info: {'name': 'John', 'age': 31, 'hobby': 'Reading', 'country': 'USA', 'gender': 'Male'}\n"
     ]
    }
   ],
   "source": [
    "# Using the | operator \n",
    "new_person = person | {\"gender\": \"Male\"}\n",
    "print('\\n Merges additional_info:',new_person)  "
   ]
  },
  {
   "cell_type": "code",
   "execution_count": 13,
   "id": "63293f42",
   "metadata": {},
   "outputs": [
    {
     "name": "stdout",
     "output_type": "stream",
     "text": [
      "\n",
      " Clears the dictionary: {}\n"
     ]
    }
   ],
   "source": [
    "# Clears the dictionary\n",
    "person.clear() \n",
    "print('\\n Clears the dictionary:',person)  "
   ]
  }
 ],
 "metadata": {
  "kernelspec": {
   "display_name": "Python 3 (ipykernel)",
   "language": "python",
   "name": "python3"
  },
  "language_info": {
   "codemirror_mode": {
    "name": "ipython",
    "version": 3
   },
   "file_extension": ".py",
   "mimetype": "text/x-python",
   "name": "python",
   "nbconvert_exporter": "python",
   "pygments_lexer": "ipython3",
   "version": "3.11.4"
  }
 },
 "nbformat": 4,
 "nbformat_minor": 5
}
