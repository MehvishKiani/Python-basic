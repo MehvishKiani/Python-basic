{
 "cells": [
  {
   "cell_type": "markdown",
   "id": "167ea833",
   "metadata": {},
   "source": [
    "Basic Syntax"
   ]
  },
  {
   "cell_type": "code",
   "execution_count": 1,
   "id": "c11d54d5",
   "metadata": {},
   "outputs": [
    {
     "name": "stdout",
     "output_type": "stream",
     "text": [
      "Hello, World!\n"
     ]
    }
   ],
   "source": [
    "print(\"Hello, World!\")"
   ]
  },
  {
   "cell_type": "code",
   "execution_count": 2,
   "id": "cf081e38",
   "metadata": {},
   "outputs": [],
   "source": [
    "# This is a comment. Python ignores this."
   ]
  },
  {
   "cell_type": "markdown",
   "id": "440673cd",
   "metadata": {},
   "source": [
    "Data types:\n",
    "int for integers (whole numbers).\n",
    "float for floating-point numbers (decimals).\n",
    "str for strings (text).\n",
    "bool for boolean values (True or False)."
   ]
  },
  {
   "cell_type": "code",
   "execution_count": 25,
   "id": "5129e232",
   "metadata": {},
   "outputs": [
    {
     "name": "stdout",
     "output_type": "stream",
     "text": [
      "Name: Mehvish\n",
      "Age: 22 years\n",
      "Height: 5.0 feet\n",
      "Is Student: Yes\n"
     ]
    }
   ],
   "source": [
    "age = 22       # Integer\n",
    "name = \"Mehvish\" # String\n",
    "height = 5.0  # Float\n",
    "is_student = True  # Boolean\n",
    "\n",
    "print(f\"Name: {name}\")\n",
    "print(f\"Age: {age} years\")\n",
    "print(f\"Height: {height} feet\")\n",
    "print(f\"Is Student: {'Yes' if is_student else 'No'}\")"
   ]
  },
  {
   "cell_type": "code",
   "execution_count": 4,
   "id": "92515ae1",
   "metadata": {},
   "outputs": [
    {
     "name": "stdout",
     "output_type": "stream",
     "text": [
      "<class 'int'>\n",
      "<class 'str'>\n"
     ]
    }
   ],
   "source": [
    "print(type(age))  \n",
    "print(type(name))"
   ]
  },
  {
   "cell_type": "markdown",
   "id": "11c19be9",
   "metadata": {},
   "source": [
    "Basic Operators:\n",
    "1:Arithmetic Operators"
   ]
  },
  {
   "cell_type": "code",
   "execution_count": 3,
   "id": "d1599cdc",
   "metadata": {},
   "outputs": [
    {
     "name": "stdout",
     "output_type": "stream",
     "text": [
      "15\n",
      "5\n",
      "20\n",
      "5.0\n",
      "1\n"
     ]
    }
   ],
   "source": [
    "sum = 10 + 5   # Addition (sum = 15)\n",
    "difference = 10 - 5  # Subtraction (difference = 5)\n",
    "product = 10 * 2  # Multiplication (product = 20)\n",
    "division = 10 / 2  # Division (division = 5.0)\n",
    "modulus = 10 % 3   # Modulus (remainder = 1)\n",
    "print('Sum :',sum)\n",
    "print('Difference :',difference)\n",
    "print('Product :',product)\n",
    "print('Division :',division)\n",
    "print('Modulus :',modulus)"
   ]
  },
  {
   "cell_type": "markdown",
   "id": "e8f0299e",
   "metadata": {},
   "source": [
    "Comparison Operators"
   ]
  },
  {
   "cell_type": "code",
   "execution_count": 8,
   "id": "8840da35",
   "metadata": {},
   "outputs": [
    {
     "name": "stdout",
     "output_type": "stream",
     "text": [
      "False\n",
      "True\n",
      "True\n",
      "False\n",
      "True\n",
      "False\n"
     ]
    }
   ],
   "source": [
    "x = 10\n",
    "y = 5\n",
    "print(x == y)  # False (checks if x is equal to y)\n",
    "print(x != y)  # True (checks if x is not equal to y)\n",
    "print(x > y)   # True (checks if x is greater than y)\n",
    "print(x < y)   # False (checks if x is less than y)\n",
    "print(x >= y)  # True (checks if x is greater than or equal to y)\n",
    "print(x <= y)  # False (checks if x is less than or equal to y)\n"
   ]
  },
  {
   "cell_type": "markdown",
   "id": "2b05b4fc",
   "metadata": {},
   "source": [
    " Input from the User"
   ]
  },
  {
   "cell_type": "code",
   "execution_count": 12,
   "id": "65127451",
   "metadata": {},
   "outputs": [
    {
     "name": "stdout",
     "output_type": "stream",
     "text": [
      "Enter your name: Mehvish Kiani\n",
      "Hello, Mehvish Kiani\n"
     ]
    }
   ],
   "source": [
    "name = input(\"Enter your name: \")\n",
    "print(\"Hello, \" + name)"
   ]
  },
  {
   "cell_type": "code",
   "execution_count": 13,
   "id": "902ef4ac",
   "metadata": {},
   "outputs": [
    {
     "name": "stdout",
     "output_type": "stream",
     "text": [
      "Enter your age: 21\n",
      "You are 21 years old.\n"
     ]
    }
   ],
   "source": [
    "age = int(input(\"Enter your age: \"))  # Convert input to an integer\n",
    "print(\"You are \" + str(age) + \" years old.\")  # Convert integer back to string for concatenation"
   ]
  },
  {
   "cell_type": "code",
   "execution_count": 4,
   "id": "7a9eb8fb",
   "metadata": {},
   "outputs": [
    {
     "name": "stdout",
     "output_type": "stream",
     "text": [
      "2\n",
      "2\n",
      "Variable is two\n"
     ]
    }
   ],
   "source": [
    "var = int(input())\n",
    "print(var)\n",
    "if(var>4):\n",
    "    print(\"Variable is greater\")\n",
    "    \n",
    "elif(var==2):\n",
    "    print(\"Variable is two\")\n",
    "    \n",
    "else:\n",
    "    print(\"Variable is not greater\")"
   ]
  },
  {
   "cell_type": "code",
   "execution_count": 45,
   "id": "8dcfaa8c",
   "metadata": {},
   "outputs": [
    {
     "name": "stdout",
     "output_type": "stream",
     "text": [
      "0\n",
      "1\n",
      "2\n",
      "3\n",
      "4\n",
      "The color is red\n",
      "\n",
      "The color is green\n",
      "\n",
      "3\n",
      "2\n",
      "1\n",
      "Even no: 1\n",
      "Even no: 3\n",
      "Even no: 5\n",
      "1\n",
      "2\n",
      "3\n",
      "Total:  15\n"
     ]
    }
   ],
   "source": [
    "for i in range(0, 5):\n",
    "    print(i)\n",
    "i = 0\n",
    "\n",
    "# List of colors\n",
    "colors = [\"red\", \"green\"]\n",
    "for color in colors:\n",
    "    print(f\"The color is {color}\\n\")\n",
    "\n",
    "# Countdown from 3 to 1\n",
    "count = 3\n",
    "while count > 0:\n",
    "    print(count)\n",
    "    count -= 1\n",
    "\n",
    "# Skip even numbers from 1 to 5\n",
    "for i in range(1, 6):\n",
    "    if i % 2 == 0:\n",
    "        continue\n",
    "    print('Even no:',i)\n",
    "\n",
    "    \n",
    "# Stop loop when i is 4\n",
    "for i in range(1, 6):\n",
    "    if i == 4:\n",
    "        break\n",
    "    print(i)\n",
    "\n",
    "# Sum of all numbers\n",
    "numbers = [1, 2, 3, 4, 5]\n",
    "total = 0\n",
    "for num in numbers:\n",
    "    total += num\n",
    "print(f\"Total: \",total)\n"
   ]
  },
  {
   "cell_type": "code",
   "execution_count": 43,
   "id": "cf32012d",
   "metadata": {},
   "outputs": [
    {
     "name": "stdout",
     "output_type": "stream",
     "text": [
      "4\n",
      "5\n",
      "6\n",
      "7\n",
      "8\n",
      "9\n"
     ]
    }
   ],
   "source": [
    "while(i<10):\n",
    "    print(i)\n",
    "    i = i+1"
   ]
  },
  {
   "cell_type": "code",
   "execution_count": 10,
   "id": "7ffa2ad0",
   "metadata": {},
   "outputs": [
    {
     "name": "stdout",
     "output_type": "stream",
     "text": [
      "4.5\n"
     ]
    }
   ],
   "source": [
    "def average(num1, num2):\n",
    "    avr = (num1 + num2) /2\n",
    "    return avr\n",
    "\n",
    "print(average(3,6))"
   ]
  },
  {
   "cell_type": "code",
   "execution_count": 29,
   "id": "e7ccccc5",
   "metadata": {},
   "outputs": [
    {
     "name": "stdout",
     "output_type": "stream",
     "text": [
      "Welcome to the Simple Calculator!\n",
      "Choose an operation:\n",
      "1. Add\n",
      "2. Subtract\n",
      "3. Multiply\n",
      "4. Divide\n",
      "Enter 'q' to quit.\n",
      "\n",
      "Enter your choice: 2\n",
      "Enter first number: 3\n",
      "Enter second number: 4\n",
      "Result: -1.0\n",
      "\n",
      "Enter your choice: q\n",
      "Goodbye!\n"
     ]
    }
   ],
   "source": [
    "def calculator():\n",
    "    print(\"Welcome to the Simple Calculator!\")\n",
    "    print(\"Choose an operation:\")\n",
    "    print(\"1. Add\")\n",
    "    print(\"2. Subtract\")\n",
    "    print(\"3. Multiply\")\n",
    "    print(\"4. Divide\")\n",
    "    print(\"Enter 'q' to quit.\")\n",
    "\n",
    "    while True:\n",
    "        choice = input(\"\\nEnter your choice: \")\n",
    "\n",
    "        if choice == 'q':\n",
    "            print(\"Goodbye!\")\n",
    "            break\n",
    "\n",
    "        if choice not in ('1', '2', '3', '4'):\n",
    "            print(\"Invalid choice! Try again.\")\n",
    "            continue\n",
    "\n",
    "        try:\n",
    "            num1 = float(input(\"Enter first number: \"))\n",
    "            num2 = float(input(\"Enter second number: \"))\n",
    "        except ValueError:\n",
    "            print(\"Please enter valid numbers.\")\n",
    "            continue\n",
    "\n",
    "        if choice == '1':\n",
    "            print(f\"Result: {num1 + num2}\")\n",
    "        elif choice == '2':\n",
    "            print(f\"Result: {num1 - num2}\")\n",
    "        elif choice == '3':\n",
    "            print(f\"Result: {num1 * num2}\")\n",
    "        elif choice == '4':\n",
    "            if num2 == 0:\n",
    "                print(\"Error! Division by zero.\")\n",
    "            else:\n",
    "                print(f\"Result: {num1 / num2}\")\n",
    "\n",
    "if __name__ == \"__main__\":\n",
    "    calculator()\n"
   ]
  },
  {
   "cell_type": "code",
   "execution_count": null,
   "id": "99f8fea1",
   "metadata": {},
   "outputs": [],
   "source": []
  }
 ],
 "metadata": {
  "kernelspec": {
   "display_name": "Python 3 (ipykernel)",
   "language": "python",
   "name": "python3"
  },
  "language_info": {
   "codemirror_mode": {
    "name": "ipython",
    "version": 3
   },
   "file_extension": ".py",
   "mimetype": "text/x-python",
   "name": "python",
   "nbconvert_exporter": "python",
   "pygments_lexer": "ipython3",
   "version": "3.11.4"
  }
 },
 "nbformat": 4,
 "nbformat_minor": 5
}
