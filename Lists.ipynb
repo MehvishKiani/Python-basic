{
 "cells": [
  {
   "cell_type": "markdown",
   "id": "3b474e8d",
   "metadata": {},
   "source": [
    "# Lists\n",
    "Lists are mutable sequences. You can add, remove, and modify elements."
   ]
  },
  {
   "cell_type": "code",
   "execution_count": 1,
   "id": "5dba5fc6",
   "metadata": {},
   "outputs": [
    {
     "name": "stdout",
     "output_type": "stream",
     "text": [
      "apple\n",
      "cherry\n"
     ]
    }
   ],
   "source": [
    "fruits = [\"apple\", \"banana\", \"cherry\"]\n",
    "print(fruits[0])  \n",
    "print(fruits[-1])  #(negative index starts from the end)"
   ]
  },
  {
   "cell_type": "code",
   "execution_count": null,
   "id": "1fd8640e",
   "metadata": {},
   "outputs": [],
   "source": [
    "# Add item to the list\n",
    "fruits.append(\"orange\")  \n",
    "print('\\nAdd item to  list:',fruits)  "
   ]
  },
  {
   "cell_type": "code",
   "execution_count": 3,
   "id": "41e38840",
   "metadata": {},
   "outputs": [
    {
     "name": "stdout",
     "output_type": "stream",
     "text": [
      "\n",
      "Remove specific item: ['apple', 'cherry', 'orange']\n"
     ]
    }
   ],
   "source": [
    "# Remove specific item\n",
    "fruits.remove(\"banana\")  \n",
    "print('\\nRemove specific item:',fruits) "
   ]
  },
  {
   "cell_type": "code",
   "execution_count": 4,
   "id": "cee2255e",
   "metadata": {},
   "outputs": [
    {
     "name": "stdout",
     "output_type": "stream",
     "text": [
      "\n",
      "Insert item at any index: ['apple', 'kiwi', 'cherry', 'orange']\n"
     ]
    }
   ],
   "source": [
    "# Insert 'kiwi' at index 1\n",
    "fruits.insert(1, \"kiwi\")  \n",
    "print('\\nInsert item at any index:',fruits)  "
   ]
  },
  {
   "cell_type": "code",
   "execution_count": 5,
   "id": "905a9f4f",
   "metadata": {},
   "outputs": [
    {
     "name": "stdout",
     "output_type": "stream",
     "text": [
      "\n",
      "Sorts the list alphabetically: ['apple', 'cherry', 'kiwi', 'orange']\n"
     ]
    }
   ],
   "source": [
    "# Sorts the list alphabetically\n",
    "fruits.sort()  \n",
    "print('\\nSorts the list alphabetically:',fruits)  "
   ]
  },
  {
   "cell_type": "code",
   "execution_count": 6,
   "id": "ddf650b0",
   "metadata": {},
   "outputs": [
    {
     "name": "stdout",
     "output_type": "stream",
     "text": [
      "\n",
      "Reverses the list:  ['orange', 'kiwi', 'cherry', 'apple']\n"
     ]
    }
   ],
   "source": [
    "# Reverses the list\n",
    "fruits.reverse()  \n",
    "print('\\nReverses the list: ',fruits) "
   ]
  },
  {
   "cell_type": "code",
   "execution_count": 7,
   "id": "2eb416b8",
   "metadata": {},
   "outputs": [
    {
     "name": "stdout",
     "output_type": "stream",
     "text": [
      "\n",
      "Adding anoter fruit : 2\n"
     ]
    }
   ],
   "source": [
    "# Adding another 'apple'\n",
    "fruits.append(\"apple\")  \n",
    "print('\\nAdding anoter fruit :',fruits.count(\"apple\"))  "
   ]
  },
  {
   "cell_type": "code",
   "execution_count": 8,
   "id": "40c628cb",
   "metadata": {},
   "outputs": [
    {
     "name": "stdout",
     "output_type": "stream",
     "text": [
      "\n",
      "Removes last fruit: apple\n",
      "\n",
      "Returns the last item: ['orange', 'kiwi', 'cherry', 'apple']\n"
     ]
    }
   ],
   "source": [
    "# Removes and returns the last item\n",
    "last_fruit = fruits.pop()  \n",
    "print('\\nRemoves last fruit:',last_fruit)  \n",
    "print('\\nReturns the last item:',fruits)  "
   ]
  },
  {
   "cell_type": "code",
   "execution_count": 9,
   "id": "d26e46cb",
   "metadata": {},
   "outputs": [
    {
     "name": "stdout",
     "output_type": "stream",
     "text": [
      "\n",
      "Clears the list: []\n"
     ]
    }
   ],
   "source": [
    "# Clears the list\n",
    "fruits.clear()  \n",
    "print(\"\\nClears the list:\" ,fruits) "
   ]
  }
 ],
 "metadata": {
  "kernelspec": {
   "display_name": "Python 3 (ipykernel)",
   "language": "python",
   "name": "python3"
  },
  "language_info": {
   "codemirror_mode": {
    "name": "ipython",
    "version": 3
   },
   "file_extension": ".py",
   "mimetype": "text/x-python",
   "name": "python",
   "nbconvert_exporter": "python",
   "pygments_lexer": "ipython3",
   "version": "3.11.4"
  }
 },
 "nbformat": 4,
 "nbformat_minor": 5
}
